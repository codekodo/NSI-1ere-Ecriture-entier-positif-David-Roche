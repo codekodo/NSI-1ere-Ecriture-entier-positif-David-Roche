{
  "nbformat": 4,
  "nbformat_minor": 0,
  "metadata": {
    "colab": {
      "name": "3 - NSI - 1ère - Python - Les dictionnaires.ipynb",
      "version": "0.3.2",
      "provenance": [],
      "collapsed_sections": [],
      "include_colab_link": true
    },
    "kernelspec": {
      "name": "python3",
      "display_name": "Python 3"
    }
  },
  "cells": [
    {
      "cell_type": "markdown",
      "metadata": {
        "id": "view-in-github",
        "colab_type": "text"
      },
      "source": [
        "<a href=\"https://colab.research.google.com/github/codekodo/NSI-1ere-Representation-des-donnees/blob/master/3_-_NSI_-_1%C3%A8re_-_Python_-_Les_dictionnaires.ipynb\" target=\"_parent\"><img src=\"https://colab.research.google.com/assets/colab-badge.svg\" alt=\"Open In Colab\"/></a>"
      ]
    },
    {
      "cell_type": "markdown",
      "metadata": {
        "id": "NJheqv3xvsXd",
        "colab_type": "text"
      },
      "source": [
        "# PYTHON : LES DICTIONNAIRES\n",
        "\n",
        "Comme les listes, les dictionnaires permettent de \"stocker\" des données. Chaque élément d'un dictionnaire est composé de 2 parties, on parle de pairs \"clé/valeur\". Voici un exemple de dictionnaire :\n",
        "\n",
        "```python\n",
        "mon_dico = {\"nom\": \"Durand\", \"prenom\": \"Christophe\", \"date de naissance\": \"29/02/1981\"}\n",
        "```\n",
        "\t\t\t\n",
        "Comme vous pouvez le constater, nous utilisons des accolades {} pour définir le début et la fin du dictionnaire (alors que nous utilisons des crochets [] pour les listes et les parenthèses pour les tuples). Dans le dictionnaire ci-dessus, \"nom\", \"prenom\" et \"date de naissance\" sont des clés et \"Durand\", \"Christophe\" et \"29/02/1981\" sont des valeurs. La clé \"nom\" est associée à la valeur \"Durand\", la clé \"prenom\" est associée à la valeur \"Christophe\" et la clé \"date de naissance\" est associée à la valeur \"29/02/1981\". Les clés sont des chaînes de caractères ou des nombres. Les valeurs peuvent être des chaînes de caractères, des nombres, des booléens...\n",
        "\n",
        "Pour créer un dictionnaire, il est aussi possible de procéder comme suit :\n",
        "\n",
        "```python\n",
        "mon_dico = {}\n",
        "mon_dico[\"nom\"] = \"Durand\"\n",
        "mon_dico[\"prenom\"] = \"Christophe\"\n",
        "mon_dico[\"date de naissance\"] = \"29/02/1981\"\n",
        "```\n",
        "\n",
        "## 1. Affichage du contenu d'un dictionnaire\t\t\t"
      ]
    },
    {
      "cell_type": "markdown",
      "metadata": {
        "id": "QUQ_0fK8whPL",
        "colab_type": "text"
      },
      "source": [
        "> ---\n",
        "\n",
        "> **Entraînement 1**\n",
        "\n",
        "> La variable `mon_dico` référence un dictionnaire. Pour afficher le contenu du dictionnaire référencé par la variable `mon_dico` il suffit  d'ajouter le nom de la variable sur une nouvelle ligne dans le progamme (ici `mon_dico`) après sa déclaration puis d'executer le programme. Comme cela se fait dans une console classique Python. Faites le test dans la cellule code ci-dessous.\n",
        "\n",
        "> ---"
      ]
    },
    {
      "cell_type": "code",
      "metadata": {
        "id": "frG13VKaw22L",
        "colab_type": "code",
        "colab": {}
      },
      "source": [
        "# Entraînement 1\n",
        "\n",
        "mon_dico = {\"nom\": \"Durand\", \"prenom\": \"Christophe\", \"date de naissance\": \"29/02/1981\"}"
      ],
      "execution_count": 0,
      "outputs": []
    },
    {
      "cell_type": "markdown",
      "metadata": {
        "id": "Q16igy1HyLPp",
        "colab_type": "text"
      },
      "source": [
        "## 2. Affichage de la valeur associée à une clé\n",
        "\n",
        "Il est possible d'afficher la valeur associée à une clé."
      ]
    },
    {
      "cell_type": "markdown",
      "metadata": {
        "id": "gau8xNnYybUa",
        "colab_type": "text"
      },
      "source": [
        "> ---\n",
        "\n",
        "> **Entraînement 2**\n",
        "\n",
        "> Soit le programme suivant :\n",
        "> ```python\n",
        "mon_dico = {\"nom\": \"Durand\", \"prenom\": \"Christophe\", \"date de naissance\": \"29/02/1981\"}\n",
        "print(f'Bonjour je suis {monDico[\"prenom\"]} {monDico[\"nom\"]}, je suis né le {monDico[\"date de naissance\"]}')\n",
        "```\n",
        "\t\t\t\t\n",
        "> Quel est le résultat attendu après l'exécution de ce programme ? Vérifiez votre réponse dans la cellule code ci-dessous.\n",
        "\n",
        "> ---"
      ]
    },
    {
      "cell_type": "code",
      "metadata": {
        "id": "PTYPxzJPyxGX",
        "colab_type": "code",
        "colab": {}
      },
      "source": [
        "# Entraînement 2\n",
        "\n"
      ],
      "execution_count": 0,
      "outputs": []
    },
    {
      "cell_type": "markdown",
      "metadata": {
        "id": "_97C3h36yx6X",
        "colab_type": "text"
      },
      "source": [
        "## 3. Ajouter un élément à un dictionnaire\n",
        "\n",
        "Il est facile d'ajouter un élément à un dictionnaire (les dictionnaires sont mutables)."
      ]
    },
    {
      "cell_type": "markdown",
      "metadata": {
        "id": "qZHXfjWmzCPP",
        "colab_type": "text"
      },
      "source": [
        "> ---\n",
        "\n",
        "> **Entraînement 3**\n",
        "\n",
        "> Soit le programme suivant :\n",
        "> ```python\n",
        "mon_dico = {\"nom\": \"Durand\", \"prenom\": \"Christophe\", \"date de naissance\": \"29/02/1981\"}\n",
        "print(f'Bonjour je suis {monDico[\"prenom\"]} {monDico[\"nom\"]}, je suis né le {monDico[\"date de naissance\"]}')\n",
        "mon_dico['lieu naissance'] = \"Bonneville\"\n",
        "print (f'à {monDico[\"lieu naissance\"]}')\n",
        "```\n",
        "\t\t\t\t\n",
        "> Quel est le résultat attendu après l'exécution de ce programme ? Vérifiez votre réponse dans la cellule code ci-dessous.\n",
        "\n",
        "> ---"
      ]
    },
    {
      "cell_type": "code",
      "metadata": {
        "id": "XJ9eFcNVzO5W",
        "colab_type": "code",
        "colab": {}
      },
      "source": [
        "# Entraînement 3\n",
        "\n"
      ],
      "execution_count": 0,
      "outputs": []
    },
    {
      "cell_type": "markdown",
      "metadata": {
        "id": "DKn-0a0SzTdv",
        "colab_type": "text"
      },
      "source": [
        "## 4. Supprimer une paire \"clé/valeur\"\n",
        "\n",
        "L'instruction \"del\" permet du supprimer une paire \"clé/valeur\""
      ]
    },
    {
      "cell_type": "markdown",
      "metadata": {
        "id": "jPmg4IkKzYvP",
        "colab_type": "text"
      },
      "source": [
        "> ---\n",
        "\n",
        "> **Entraînement 4**\n",
        "\n",
        "> Quel est le contenu du dictionnaire référencé par la variable \"mes_fruits\" après l'exécution du programme ci-dessous ?\n",
        "> ```python\n",
        "mes_fruits = {\"poire\": 3, \"pomme\": 4, \"orange\": 2}\n",
        "del mes_fruits[\"pomme\"]\n",
        "```\n",
        "\t\t\t\t\n",
        "> Vérifiez votre réponse dans la cellule code ci-dessous.\n",
        "\n",
        "> ---"
      ]
    },
    {
      "cell_type": "code",
      "metadata": {
        "id": "u1mRvBdizq-f",
        "colab_type": "code",
        "colab": {}
      },
      "source": [
        "# Entraînement 4\n",
        "\n"
      ],
      "execution_count": 0,
      "outputs": []
    },
    {
      "cell_type": "markdown",
      "metadata": {
        "id": "SNfj5DMAzvMJ",
        "colab_type": "text"
      },
      "source": [
        "## 5. Modifier une valeur\n",
        "\n",
        "Il est possible de modifier une valeur."
      ]
    },
    {
      "cell_type": "markdown",
      "metadata": {
        "id": "OEEjCnDwzz0u",
        "colab_type": "text"
      },
      "source": [
        "> ---\n",
        "\n",
        "> **Entraînement 5**\n",
        "\n",
        "> Soit le programme suivant :\n",
        "> ```python\n",
        "mes_fruits = {\"poire\": 3, \"pomme\": 4, \"orange\": 2}\n",
        "mes_fruits[\"pomme\"] = mesFruits[\"pomme\"] - 1\n",
        "```\n",
        "\t\t\t\t\n",
        "> Quel est le contenu du dictionnaire référencé par la variable `mes_fruits` après l'exécution du programme ? Vérifiez votre réponse dans la cellule code ci-dessous.\n",
        "\n",
        "> ---"
      ]
    },
    {
      "cell_type": "code",
      "metadata": {
        "id": "7ne0ZRTd0GCe",
        "colab_type": "code",
        "colab": {}
      },
      "source": [
        "# Entraînement 5\n",
        "\n"
      ],
      "execution_count": 0,
      "outputs": []
    },
    {
      "cell_type": "markdown",
      "metadata": {
        "id": "OqBDd6ob0Kzx",
        "colab_type": "text"
      },
      "source": [
        "## 6. Dictionnaire et boucle `for`\n",
        "\n",
        "Il est possible de parcourir un dictionnaire à l'aide d'une boucle `for`. Ce parcours peut se faire selon les clés ou les valeurs. Commençons par parcourir les clés à l'aide de la méthode \"keys\"."
      ]
    },
    {
      "cell_type": "markdown",
      "metadata": {
        "id": "PDUOLAS10WoV",
        "colab_type": "text"
      },
      "source": [
        "> ---\n",
        "\n",
        "> **Entraînement 6**\n",
        "\n",
        "> Testez le programme ci-dessous.\n",
        "\n",
        "> ---"
      ]
    },
    {
      "cell_type": "code",
      "metadata": {
        "id": "gJeQrQEP0o3t",
        "colab_type": "code",
        "colab": {}
      },
      "source": [
        "# Entraînement 6\n",
        "\n",
        "mes_fruits = {\"poire\": 3, \"pomme\": 4, \"orange\": 2}\n",
        "print(\"liste des fruits :\")\n",
        "for fruit in mes_fruits.keys():\n",
        "\tprint(fruit)"
      ],
      "execution_count": 0,
      "outputs": []
    },
    {
      "cell_type": "markdown",
      "metadata": {
        "id": "yS_vqUdk0sY1",
        "colab_type": "text"
      },
      "source": [
        "La méthode `values()` permet de parcourir le dictionnaire selon les valeurs."
      ]
    },
    {
      "cell_type": "markdown",
      "metadata": {
        "id": "D0ALYFRV0uBO",
        "colab_type": "text"
      },
      "source": [
        "> ---\n",
        "\n",
        "> **Entraînement 7**\n",
        "\n",
        "> Testez le programme ci-dessous.\n",
        "\n",
        "> ---"
      ]
    },
    {
      "cell_type": "code",
      "metadata": {
        "id": "ur1AEhr70zFu",
        "colab_type": "code",
        "colab": {}
      },
      "source": [
        "# Entraînement 7\n",
        "\n",
        "mes_fruits = {\"poire\": 3, \"pomme\": 4, \"orange\": 2}\n",
        "\tfor qte in mes_fruits.values():\n",
        "\t\tprint(qte)"
      ],
      "execution_count": 0,
      "outputs": []
    },
    {
      "cell_type": "markdown",
      "metadata": {
        "id": "uu6i_e6n05vQ",
        "colab_type": "text"
      },
      "source": [
        "Enfin, il est possible de parcourir un dictionnaire à la fois sur les clés et les valeurs en utilisant la méthode `item()`."
      ]
    },
    {
      "cell_type": "markdown",
      "metadata": {
        "id": "Ly-Qf1FX1EGm",
        "colab_type": "text"
      },
      "source": [
        "> ---\n",
        "\n",
        "> **Entraînement 8**\n",
        "\n",
        "> Testez le programme ci-dessous.\n",
        "\n",
        "> ---"
      ]
    },
    {
      "cell_type": "code",
      "metadata": {
        "id": "VJ3hWNK61DJd",
        "colab_type": "code",
        "colab": {}
      },
      "source": [
        "# Entraînement 8\n",
        "\n",
        "mes_fruits = {\"poire\": 3, \"pomme\": 4, \"orange\": 2}\n",
        "print (\"Stock de fruits :\")\n",
        "for fruit, qte in mes_fruits.items():\n",
        "\tprint (f\"{fruit} : {qte}\")"
      ],
      "execution_count": 0,
      "outputs": []
    },
    {
      "cell_type": "markdown",
      "metadata": {
        "id": "FdRVTG691QI2",
        "colab_type": "text"
      },
      "source": [
        "Vous avez sans doute remarqué l'utilisation de deux variables (`fruit` et `qte`) au niveau du `for...in`."
      ]
    },
    {
      "cell_type": "markdown",
      "metadata": {
        "id": "Dm9P7zK11t8s",
        "colab_type": "text"
      },
      "source": [
        "---\n",
        "\n",
        "***A propos de ce document***\n",
        "\n",
        "* Auteur : David Roche\n",
        "* Source : https://pixees.fr/informatiquelycee/n_site/nsi_prem_base_2_16.html\n",
        "* Licence : [Creative Commons BY-SA](https://creativecommons.org/licenses/by-sa/2.0/)\n",
        "* Adaptation au format calepin : Laurent Abbal "
      ]
    }
  ]
}