{
  "nbformat": 4,
  "nbformat_minor": 0,
  "metadata": {
    "colab": {
      "name": "2 - NSI - 1ère - Python - Les séquences (tuples et listes).ipynb",
      "version": "0.3.2",
      "provenance": [],
      "collapsed_sections": [],
      "include_colab_link": true
    },
    "kernelspec": {
      "name": "python3",
      "display_name": "Python 3"
    }
  },
  "cells": [
    {
      "cell_type": "markdown",
      "metadata": {
        "id": "view-in-github",
        "colab_type": "text"
      },
      "source": [
        "<a href=\"https://colab.research.google.com/github/codekodo/NSI-1ere-Representation-des-donnees/blob/master/2_-_NSI_-_1%C3%A8re_-_Python_-_Les_s%C3%A9quences_(tuples_et_listes).ipynb\" target=\"_parent\"><img src=\"https://colab.research.google.com/assets/colab-badge.svg\" alt=\"Open In Colab\"/></a>"
      ]
    },
    {
      "cell_type": "markdown",
      "metadata": {
        "id": "kfNFLzUAvyVS",
        "colab_type": "text"
      },
      "source": [
        "# PYTHON : LES SEQUENCES (TUPLES ET LISTES)\n",
        "\n",
        "## 1. Les séquences en Python\n",
        "\n",
        "Il est possible de \"stocker\" plusieurs grandeurs dans une même structure, ce type de structure est appelé une séquence. De façon plus précise, nous définirons une séquence comme un ensemble fini et ordonné d'éléments indicés de 0 à n-1 (si cette séquence comporte n éléments). Rassurez-vous, nous reviendrons ci-dessous sur cette définition. Nous allons étudier plus particulièrement 2 types de séquences : les tuples et les listes (il en existe d'autres que nous n'évoquerons pas ici)."
      ]
    },
    {
      "cell_type": "markdown",
      "metadata": {
        "id": "Fw3ezSGKwFJb",
        "colab_type": "text"
      },
      "source": [
        "## 2. Les tuples en Python\n",
        "\n",
        "Comme déjà dit ci-dessus, un tuple est une séquence. Voici un exemple très simple :\n",
        "\n",
        "```python\n",
        "mon_tuple = (5, 8, 6, 9)\n",
        "```\n",
        "\n",
        "Dans le code ci-dessus, la variable \"mon_tuple\" référence un tuple, ce tuple est constitué des entiers 5, 8, 6 et 9. Comme indiqué dans la définition, chaque élément du tuple est indicé (il possède un indice):\n",
        "\n",
        "* le premier élément du tuple (l'entier 5) possède l'indice 0\n",
        "* le deuxième élément du tuple (l'entier 8) possède l'indice 1\n",
        "* le troisième élément du tuple (l'entier 6) possède l'indice 2\n",
        "* le quatrième élément du tuple (l'entier 9) possède l'indice 3\n",
        "\n",
        "Comment accéder à l'élément d'indice i dans un tuple ?\n",
        "\n",
        "Simplement en utilisant la \"notation entre crochets\"."
      ]
    },
    {
      "cell_type": "markdown",
      "metadata": {
        "id": "bzxuPD0W902D",
        "colab_type": "text"
      },
      "source": [
        "> ---\n",
        "\n",
        "> **Entraînement 1**\n",
        "> \n",
        "> Quelle est la valeur référencée par la variable \"a\" dans la programme ci-dessous ?\n",
        "> \n",
        "> Il existe plusieurs facons d'obtenir la valeur référencée par une varaible. Deux solutions simples : soit ajouter le nom de la variable sur une nouvelle ligne dans le progamme (ici `a`) après sa déclaration puis executer le programme (méthode utilisée dans une console classique), soit utiliser la commande magique `%whos` (à ajouter en début ou fin de programme). Cette commande magique permet en plus d'obtenir le type > des variables.\n",
        "\n",
        "> *Remarque* : la commande magique `%whos` ne fonctionne que dans un environnement IPython. Dans une console Python classique, il faudrait utiliser `var()` ou `locals()` ou `globals()` ou juste saisir le nom de la variable comme expliqué précédement.\n",
        "\n",
        "> ---"
      ]
    },
    {
      "cell_type": "code",
      "metadata": {
        "id": "WRwt4JWWwInW",
        "colab_type": "code",
        "cellView": "both",
        "colab": {}
      },
      "source": [
        "# Entraînement 1\n",
        "\n",
        "mon_tuple = (5, 8, 6, 9)\n",
        "a = mon_tuple[2]"
      ],
      "execution_count": 0,
      "outputs": []
    },
    {
      "cell_type": "markdown",
      "metadata": {
        "id": "fBbM21rcIf4Y",
        "colab_type": "text"
      },
      "source": [
        "La variable \"mon_tuple\" référence le tuple (5, 8, 6, 9), la variable \"a\" référence l'entier 6 car cet entier 6 est bien le troisième élément du tuple, il possède donc l'indice 2.\n",
        "\n",
        "ATTENTION : dans les séquences les indices commencent toujours à 0 (le premier élément de la séquence a pour indice 0), oublier cette particularité est une source d'erreur \"classique\".\n",
        "\n"
      ]
    },
    {
      "cell_type": "markdown",
      "metadata": {
        "id": "LTsTwWfrA_PF",
        "colab_type": "text"
      },
      "source": [
        "> ---\n",
        "\n",
        "> **Entraînement 2**\n",
        "\n",
        "> Complétez le code ci-dessous (en remplaçant les ..) afin qu'après l'exécution de ce programme la variable \"a\" référence l'entier 8.\n",
        "\n",
        "> ---"
      ]
    },
    {
      "cell_type": "code",
      "metadata": {
        "id": "CMxDXF7aBZur",
        "colab_type": "code",
        "colab": {}
      },
      "source": [
        "# Entraînement 2\n",
        "\n",
        "mon_tuple = (5, 8, 6, 9)\n",
        "a = mon_tuple[...]"
      ],
      "execution_count": 0,
      "outputs": []
    },
    {
      "cell_type": "markdown",
      "metadata": {
        "id": "bf9mZOAoBcW7",
        "colab_type": "text"
      },
      "source": [
        "Un tuple ne contient pas forcément des nombres entiers, il peut aussi contenir des nombres décimaux, des chaînes de caractères, des booléens..."
      ]
    },
    {
      "cell_type": "markdown",
      "metadata": {
        "id": "w3KTVxcNBynj",
        "colab_type": "text"
      },
      "source": [
        "> ---\n",
        "\n",
        "> **Entraînement 3**\n",
        "\n",
        "> Quel est le résultat attendu après l'exécution du programme suivant ?\n",
        "\n",
        "> ```python\n",
        "mon_tuple = (\"le\", \"monde\", \"bonjour\")\n",
        "print(mon_tuple[2] + \" \" + mon_tuple[0] + \" \" + mon_tuple[1] + \"!\")\n",
        "```\n",
        "\n",
        "> Vérifiez votre hypothèse en testant ce programme dans la cellule code ci-dessous.\n",
        "\n",
        "> ---"
      ]
    },
    {
      "cell_type": "code",
      "metadata": {
        "id": "mXYsOWC5B_Hu",
        "colab_type": "code",
        "colab": {}
      },
      "source": [
        "# Entraînement 3\n",
        "\n"
      ],
      "execution_count": 0,
      "outputs": []
    },
    {
      "cell_type": "markdown",
      "metadata": {
        "id": "pbrzNtNiCC3a",
        "colab_type": "text"
      },
      "source": [
        "Grâce au tuple, une fonction peut renvoyer plusieurs valeurs."
      ]
    },
    {
      "cell_type": "markdown",
      "metadata": {
        "id": "lFbhhR1dCGdE",
        "colab_type": "text"
      },
      "source": [
        "> ---\n",
        "\n",
        "> **Entraînement 4**\n",
        "\n",
        "> Analysez puis testez le programme ci-dessous.\n",
        "\n",
        "> ---"
      ]
    },
    {
      "cell_type": "code",
      "metadata": {
        "id": "pF-GbEhRCNST",
        "colab_type": "code",
        "colab": {}
      },
      "source": [
        "# Entraînement 4\n",
        "\n",
        "def add(a, b):\n",
        "\tc = a + b\n",
        "\treturn (a, b, c)\n",
        "\n",
        "mon_tuple = add(5, 8)\n",
        "print(f\"{mon_tuple[0]} + {mon_tuple[1]} = {mon_tuple[2]}\")"
      ],
      "execution_count": 0,
      "outputs": []
    },
    {
      "cell_type": "markdown",
      "metadata": {
        "id": "fZtkrlGPCnQa",
        "colab_type": "text"
      },
      "source": [
        "Il faut bien comprendre dans l'exemple ci-dessus que la variable \"mon_tuple\" référence un tuple (puisque la fonction \"add\" renvoie un tuple), d'où la \"notation entre crochets\" utilisée avec \"mon_tuple\" (mon_tuple[1]...)"
      ]
    },
    {
      "cell_type": "markdown",
      "metadata": {
        "id": "CF_G1olmEe-Z",
        "colab_type": "text"
      },
      "source": [
        "## 2. Les listes en Python\n",
        "\n",
        "Il n'est pas possible de modifier un tuple après sa création (on parle d'objet \"immutable\"), si vous essayez de modifier un tuple existant, l'interpréteur Python vous renverra une erreur. Les listes sont,comme les tuples, des séquences, mais à la différence des tuples, elles sont modifiables (on parle d'objets \"mutables\").\n",
        "\n",
        "### 2.1. Créer une liste\n",
        "\n",
        "Pour créer une liste, il existe différentes méthodes : une de ces méthodes ressemble beaucoup à la création d'un tuple :\n",
        "```python\n",
        "ma_liste = [5, 8, 6, 9]\n",
        "```\n",
        "\n",
        "Notez la présence des crochets à la place des parenthèses.\n",
        "\n",
        "Une liste est une séquence, il est donc possible de \"récupérer\" un élément d'une liste à l'aide de son indice (de la même manière que pour un tuple)"
      ]
    },
    {
      "cell_type": "markdown",
      "metadata": {
        "id": "sxqaMSc7I8X1",
        "colab_type": "text"
      },
      "source": [
        "> ---\n",
        "\n",
        "> **Entraînement 5**\n",
        "\n",
        "> Quelle est la valeur référencée par la variable \"ma_variable\" après l'exécution du programme ci-dessous ?\n",
        "\n",
        "> ---"
      ]
    },
    {
      "cell_type": "code",
      "metadata": {
        "id": "CMPXWOmLJD36",
        "colab_type": "code",
        "colab": {}
      },
      "source": [
        "# Entraînement 5\n",
        "\n",
        "ma_liste = [5, 8, 6, 9]\n",
        "ma_variable = ma_liste[2]"
      ],
      "execution_count": 0,
      "outputs": []
    },
    {
      "cell_type": "markdown",
      "metadata": {
        "id": "nVrRkALwJQ4y",
        "colab_type": "text"
      },
      "source": [
        "### 2.2. Modifier une liste\n",
        "\n",
        "Il est possible de modifier une liste à l'aide de la \"notation entre crochets\""
      ]
    },
    {
      "cell_type": "markdown",
      "metadata": {
        "id": "FLxlzGWcJTe1",
        "colab_type": "text"
      },
      "source": [
        "> ---\n",
        "\n",
        "> **Entraînement 6**\n",
        "\n",
        "> Quel est le contenu de la liste référencée par la variable \"ma_liste\" après l'exécution du programme ci-dessous ?\n",
        "\n",
        "> ---"
      ]
    },
    {
      "cell_type": "code",
      "metadata": {
        "id": "x8aXiS0EJXqC",
        "colab_type": "code",
        "colab": {}
      },
      "source": [
        "# Entraînement 6\n",
        "\n",
        "ma_liste = [5, 8, 6, 9]\n",
        "ma_liste[2] = 15"
      ],
      "execution_count": 0,
      "outputs": []
    },
    {
      "cell_type": "markdown",
      "metadata": {
        "id": "jkL2XpLGJcuJ",
        "colab_type": "text"
      },
      "source": [
        "Comme vous pouvez le constater avec l'exemple ci-dessus, l'élément d'indice 2 (le nombre entier 6) a bien été remplacé par le nombre entier 15\n",
        "\n",
        "\n",
        "### 2.3. Ajouter un élément en fin de liste\n",
        "\n",
        "Il est possible d'ajouter un élément en fin de liste à l'aide de la méthode \"append\"."
      ]
    },
    {
      "cell_type": "markdown",
      "metadata": {
        "id": "KafzqAVbJe7l",
        "colab_type": "text"
      },
      "source": [
        "> ---\n",
        "\n",
        "> **Entraînement 7**\n",
        "\n",
        "> Quel est le contenu de la liste référencée par la variable \"ma_liste\" après l'exécution du programme ci-dessous ?\n",
        "\n",
        "> ---"
      ]
    },
    {
      "cell_type": "code",
      "metadata": {
        "id": "sBFYf5fTJjih",
        "colab_type": "code",
        "colab": {}
      },
      "source": [
        "# Entraînement 7\n",
        "\n",
        "ma_liste = [5, 8, 6, 9]\n",
        "ma_liste.append(15)"
      ],
      "execution_count": 0,
      "outputs": []
    },
    {
      "cell_type": "markdown",
      "metadata": {
        "id": "fR4WRPdoJtd5",
        "colab_type": "text"
      },
      "source": [
        "### 2.4. Supprimer un élément d'une liste\n",
        "\n",
        "L'instruction \"del\" permet de supprimer un élément d'une liste en utilisant son index."
      ]
    },
    {
      "cell_type": "markdown",
      "metadata": {
        "id": "Jat3VamDJwSJ",
        "colab_type": "text"
      },
      "source": [
        "> ---\n",
        "\n",
        "> **Entraînement 8**\n",
        "\n",
        "> Quel est le contenu de la liste référencée par la variable \"ma_liste\" après l'exécution du programme ci-dessous ?\n",
        "\n",
        "> ---"
      ]
    },
    {
      "cell_type": "code",
      "metadata": {
        "id": "sj8zmp_xJ1wp",
        "colab_type": "code",
        "colab": {}
      },
      "source": [
        "# Entraînement 8\n",
        "\n",
        "ma_liste = [5, 8, 6, 9]\n",
        "del ma_liste[1]"
      ],
      "execution_count": 0,
      "outputs": []
    },
    {
      "cell_type": "markdown",
      "metadata": {
        "id": "uz-WilRmLqoX",
        "colab_type": "text"
      },
      "source": [
        "### 2.5. Nombre d'éléments présents dans une liste\n",
        "\n",
        "L'instruction \"len\" permet de connaitre le nombre d'éléments présent dans une liste (l'instruction \"len\" peut aussi être utilisée avec un tuple)."
      ]
    },
    {
      "cell_type": "markdown",
      "metadata": {
        "id": "SPicULM4L3mu",
        "colab_type": "text"
      },
      "source": [
        "> ---\n",
        "\n",
        "> **Entraînement 9**\n",
        "\n",
        "> Quelle est la valeur référencée par la variable \"nb_len\" après l'exécution du programme ci-dessous ?\n",
        "\n",
        "> ---"
      ]
    },
    {
      "cell_type": "code",
      "metadata": {
        "id": "baAWvfSCL7kW",
        "colab_type": "code",
        "colab": {}
      },
      "source": [
        "# Entraînement 9\n",
        "\n",
        "ma_liste = [5, 8, 6, 9]\n",
        "nb_ele = len(ma_liste)"
      ],
      "execution_count": 0,
      "outputs": []
    },
    {
      "cell_type": "markdown",
      "metadata": {
        "id": "LATBJf1JMB1q",
        "colab_type": "text"
      },
      "source": [
        "Une petite parenthèse : on pourrait s'interroger sur l'intérêt d'utiliser un tuple puisque la liste permet plus de choses ! La réponse est simple : les opérations sur les tuples sont plus \"rapides\". Quand vous savez que votre liste ne sera pas modifiée, il est préférable d'utiliser un tuple à la place d'une liste."
      ]
    },
    {
      "cell_type": "markdown",
      "metadata": {
        "id": "l7WTuS6uMDO-",
        "colab_type": "text"
      },
      "source": [
        "## 3. La boucle \"for\" : parcourir les éléments d'une liste\n",
        "\n",
        "La boucle \"for...in\" permet de parcourir l'ensemble des éléments d'une liste (ou d'un tuple)."
      ]
    },
    {
      "cell_type": "markdown",
      "metadata": {
        "id": "I5VjosChdB_N",
        "colab_type": "text"
      },
      "source": [
        "> ---\n",
        "\n",
        "> **Entraînement 10**\n",
        "\n",
        "> Analysez puis testez le code suivant.\n",
        "\n",
        "> ---"
      ]
    },
    {
      "cell_type": "code",
      "metadata": {
        "id": "SYWgqA2EdE9a",
        "colab_type": "code",
        "colab": {}
      },
      "source": [
        "# Entraînement 10\n",
        "\n",
        "ma_liste = [5, 8, 6, 9]\n",
        "for element in ma_liste:\n",
        "\tprint(element)"
      ],
      "execution_count": 0,
      "outputs": []
    },
    {
      "cell_type": "markdown",
      "metadata": {
        "id": "uj_VbEBmdLX5",
        "colab_type": "text"
      },
      "source": [
        "Quelques explications : comme son nom l'indique, la boucle \"for\" est une boucle ! Nous \"sortirons\" de la boucle une fois que tous les éléments de la liste \"ma_liste\" auront été parcourus. \"element\" est une variable qui va :\n",
        "\n",
        "* au premier tour de boucle, référencer le premier élément de la liste (l'entier 5)\n",
        "* au deuxième tour de boucle, référencer le deuxième élément de la liste (l'entier 8)\n",
        "* au troisième tour de boucle, référencer le troisième élément de la liste (l'entier 6)\n",
        "* au quatrième tour de boucle, référencer le quatrième élément de la liste (l'entier 9)\n",
        "\n",
        "Une chose importante à bien comprendre : le choix du nom de la variable qui va référencer les éléments de la liste les uns après les autres (\"element\") est totalement arbitraire, il est possible de choisir un autre nom sans aucun problème, le code suivant aurait donné exactement le même résultat.\n",
        "\n",
        "```python\n",
        "ma_liste = [5, 8, 6, 9]\n",
        "for toto in ma_liste:\n",
        "\tprint (toto)\n",
        "```\n",
        "\n",
        "Dans la boucle \"for..in\" il est possible d'utiliser la méthode \"range\" à la place d'une liste."
      ]
    },
    {
      "cell_type": "markdown",
      "metadata": {
        "id": "_T8PdjQvdq7a",
        "colab_type": "text"
      },
      "source": [
        "> ---\n",
        "\n",
        "> **Entraînement 11**\n",
        "\n",
        "> Analysez puis testez le code suivant.\n",
        "\n",
        "> ---"
      ]
    },
    {
      "cell_type": "code",
      "metadata": {
        "id": "MLPQGnMddtO0",
        "colab_type": "code",
        "colab": {}
      },
      "source": [
        "# Entraînement 11\n",
        "\n",
        "for element in range(0, 5):\n",
        "\tprint (element)"
      ],
      "execution_count": 0,
      "outputs": []
    },
    {
      "cell_type": "markdown",
      "metadata": {
        "id": "97u4adj8dvzk",
        "colab_type": "text"
      },
      "source": [
        "Comme vous pouvez le constater, \"range(0,5)\" est, au niveau de la boucle \"for..in\", équivalent à la liste [0,1,2,3,4], le code ci-dessous donnerait le même résultat que le programme vu dans l'\"Entraînement 11\".\n",
        "\n",
        "```python\n",
        "ma_liste = [0, 1, 2, 3, 4]\n",
        "for element in ma_liste:\n",
        "\tprint (element)\n",
        "```\n",
        "\n",
        "ATTENTION : si vous avez dans un programme \"range(a,b)\", a est la borne inférieure et b a borne supérieure. Vous ne devez surtout pas perdre de vu que la borne inférieure est incluse, mais que la borne supérieure est exclue.\n",
        "\n",
        "Il est possible d'utiliser la méthode \"range\" pour \"remplir\" une liste."
      ]
    },
    {
      "cell_type": "markdown",
      "metadata": {
        "id": "fz6AGCYJeHty",
        "colab_type": "text"
      },
      "source": [
        "> ---\n",
        "\n",
        ">**Entraînement 12**\n",
        "\n",
        "> Quel est le contenu de la liste référencée par la variable \"ma_liste\" après l'exécution du programme ci-dessous ?\n",
        "\n",
        "> ```python\n",
        "ma_liste = []\n",
        "for element in range(0, 5):\n",
        "ma_liste.append(element)\n",
        "```\n",
        "\n",
        "> Vérifiez le résutlat en utilisant la cellule code ci-dessous.\n",
        "\n",
        "> ---"
      ]
    },
    {
      "cell_type": "code",
      "metadata": {
        "id": "F8qltS05ecNY",
        "colab_type": "code",
        "colab": {}
      },
      "source": [
        "# Entraînement 12\n",
        "\n"
      ],
      "execution_count": 0,
      "outputs": []
    },
    {
      "cell_type": "markdown",
      "metadata": {
        "id": "r-MmFHRKeo25",
        "colab_type": "text"
      },
      "source": [
        "## 4. Créer une liste par compréhension\n",
        "\n",
        "Nous avons vu qu'il était possible de \"remplir\" une liste en renseignant les éléments de la liste les uns après les autres :\n",
        "\n",
        "```python\n",
        "ma_liste = [5, 8, 6, 9]\n",
        "```\n",
        "\t\t\n",
        "ou encore à l'aide de la méthode \"append\" (voir \"À faire vous-même 13\").\n",
        "\n",
        "Il est aussi possible d'obtenir exactement le même résultat qu'à l\"Entraînement 12\" en une seule ligne grâce à la compréhension de liste."
      ]
    },
    {
      "cell_type": "markdown",
      "metadata": {
        "id": "0QhhwqbAe_JX",
        "colab_type": "text"
      },
      "source": [
        "> ---\n",
        "\n",
        "> **Entraînement 13**\n",
        "\n",
        "> Quel est le contenu de la liste référencée par la variable \"ma_liste\" après l'exécution du programme ci-dessous ?\n",
        "\n",
        "> ```python\n",
        "ma_liste = [p for p in range(0, 5)]\n",
        "```\n",
        "\n",
        "> Vérifiez le résutlat en utilisant la cellule code ci-dessous.\n",
        "\n",
        "> ---"
      ]
    },
    {
      "cell_type": "code",
      "metadata": {
        "id": "D7dN389jfJdv",
        "colab_type": "code",
        "colab": {}
      },
      "source": [
        "# Entraînement 13\n",
        "\n"
      ],
      "execution_count": 0,
      "outputs": []
    },
    {
      "cell_type": "markdown",
      "metadata": {
        "id": "2thGJi-EbhI-",
        "colab_type": "text"
      },
      "source": [
        "Les compréhensions de liste permettent de rajouter une condition (if)."
      ]
    },
    {
      "cell_type": "markdown",
      "metadata": {
        "id": "Kr_dqICKFWD7",
        "colab_type": "text"
      },
      "source": [
        "> ---\n",
        "\n",
        "> **Entraînement 14**\n",
        "\n",
        "> Quel est le contenu de la liste référencée par la variable \"ma_liste\" après l'exécution du programme ci-dessous ?\n",
        "\n",
        "> ```python\n",
        "l = [1, 7, 9, 15, 5, 20, 10, 8]\n",
        "ma_liste = [p for p in l if p > 10]\n",
        "```\n",
        "\n",
        "> Vérifiez le résutlat en utilisant la cellule code ci-dessous.\n",
        "\n",
        "> ---"
      ]
    },
    {
      "cell_type": "code",
      "metadata": {
        "id": "b8FUjRX_bvmc",
        "colab_type": "code",
        "colab": {}
      },
      "source": [
        "# Entraînement 14\n",
        "\n"
      ],
      "execution_count": 0,
      "outputs": []
    },
    {
      "cell_type": "markdown",
      "metadata": {
        "id": "STDQiekRbk_a",
        "colab_type": "text"
      },
      "source": [
        "Autre possibilité, utiliser des composants \"arithmétiques\"."
      ]
    },
    {
      "cell_type": "markdown",
      "metadata": {
        "id": "DR4E-bdtboSr",
        "colab_type": "text"
      },
      "source": [
        "> ---\n",
        "\n",
        "> **Entraînement 15**\n",
        "\n",
        "> Quel est le contenu de la liste référencée par la variable \"ma_liste\" après l'exécution du programme ci-dessous ?\n",
        "\n",
        "> ```python\n",
        "l = [1, 7, 9, 15, 5, 20, 10, 8]\n",
        "ma_liste = [p**2 for p in l if p < 10]\n",
        "```\n",
        "\n",
        "> Vérifiez le résutlat en utilisant la cellule code ci-dessous.\n",
        "\n",
        "> Rappel : \"p**2\" permet d'élever la variable \"p\" au carré\n",
        "\n",
        "> ---"
      ]
    },
    {
      "cell_type": "code",
      "metadata": {
        "id": "w2GxfzwJbxXR",
        "colab_type": "code",
        "colab": {}
      },
      "source": [
        "# Entraînement 15\n",
        "\n"
      ],
      "execution_count": 0,
      "outputs": []
    },
    {
      "cell_type": "markdown",
      "metadata": {
        "id": "rk8nfiQ8b4Tb",
        "colab_type": "text"
      },
      "source": [
        "Comme vous pouvez le remarquer, nous obtenons une liste (\"ma_liste\") qui contient tous les éléments de la liste \"l\" élevés au carré à condition que ces éléments de \"l\" soient inférieurs à 10. Comme vous pouvez le constater, la compréhension de liste permet d'obtenir des combinaisons relativement complexes."
      ]
    },
    {
      "cell_type": "markdown",
      "metadata": {
        "id": "IGdNNu2Zb6dR",
        "colab_type": "text"
      },
      "source": [
        "## 5. Travailler sur des \"listes de listes\"\n",
        "\n",
        "Chaque élément d'une liste peut être une liste, on parle de liste de liste.\n",
        "\n",
        "Voici un exemple de liste de liste :\n",
        "\n",
        "```python\n",
        "m = [[1, 3, 4], [5 ,6 ,8], [2, 1, 3], [7, 8, 15]]\n",
        "```\n",
        "\t\t\n",
        "Le premier élément de la liste ci-dessus est bien une liste ([1, 3, 4]), le deuxième élément est aussi une liste ([5, 6, 8])...\n",
        "\n",
        "Il est souvent plus pratique de présenter ces \"listes de listes\" comme suit :\n",
        "\n",
        "```python\n",
        "m = [[1, 3, 4],\n",
        "     [5, 6, 8],\n",
        "     [2, 1, 3],\n",
        "     [7, 8, 15]]\n",
        "```\n",
        "\t\t\n",
        "Nous obtenons ainsi quelque chose qui ressemble beaucoup à un \"objet mathématique\" très utilisé : une matrice\n",
        "\n",
        "Il est évidemment possible d'utiliser les indices de position avec ces \"listes de listes\". Pour cela nous allons considérer notre liste de listes comme une matrice, c'est à dire en utilisant les notions de \"ligne\" et de \"colonne\". Dans la matrice ci-dessus :\n",
        "\n",
        "En ce qui concerne les lignes :\n",
        "\n",
        "* 1, 3, 4 constituent la première ligne\n",
        "* 5, 6, 8 constituent la deuxième ligne\n",
        "* 2, 1, 3 constituent la troisième ligne\n",
        "* 7, 8, 15 constituent la quatrième ligne\n",
        "\n",
        "En ce qui concerne les colonnes :\n",
        "\n",
        "* 1, 5, 2, 7 constituent la première colonne\n",
        "* 3, 6, 1, 8 constituent la deuxième colonne\n",
        "* 4, 8, 3, 15 constituent la troisième colonne\n",
        "\n",
        "Pour cibler un élément particulier de la matrice, on utilise la notation avec \"doubles crochets\" : m[ligne][colonne] (sans perdre de vu que la première ligne et la première colonne ont pour indice 0)"
      ]
    },
    {
      "cell_type": "markdown",
      "metadata": {
        "id": "-l2kG5MwcSSK",
        "colab_type": "text"
      },
      "source": [
        "> ---\n",
        "\n",
        "> **Entraînement 16**\n",
        "\n",
        "> Quelle est la valeur référencée par la variable \"a\" après l'exécution du programme ci-dessous ?\n",
        "\n",
        "> ```python\n",
        "m = [[1, 3, 4],\n",
        "     [5, 6, 8],\n",
        "     [2, 1, 3],\n",
        "     [7, 8, 15]]\n",
        "a = m[1][2]\n",
        "```\n",
        "\n",
        "> Vérifiez le résutlat en utilisant la cellule code ci-dessous.\n",
        "\n",
        "> Rappel : \"p**2\" permet d'élever la variable \"p\" au carré\n",
        "\n",
        "> ---"
      ]
    },
    {
      "cell_type": "code",
      "metadata": {
        "id": "KLJP-15EkRLa",
        "colab_type": "code",
        "colab": {}
      },
      "source": [
        "# Entraînement 16\n",
        "\n"
      ],
      "execution_count": 0,
      "outputs": []
    },
    {
      "cell_type": "markdown",
      "metadata": {
        "id": "x3DKs9UfkT0_",
        "colab_type": "text"
      },
      "source": [
        "Comme vous pouvez le constater, la variable \"a\" référence bien l'entier situé à la 2e ligne (indice 1) et à la 3e colonne (indice 2), c'est-à-dire 8."
      ]
    },
    {
      "cell_type": "markdown",
      "metadata": {
        "id": "IWABO3kHkXcw",
        "colab_type": "text"
      },
      "source": [
        "> ---\n",
        "\n",
        "> **Entraînement 17**\n",
        "\n",
        "> Quel est le contenu de la liste référencée par la variable \"mm\" après l'exécution du programme ci-dessous ?\n",
        "\n",
        "> ```python\n",
        "m = [1, 2, 3]\n",
        "mm = [m, m, m]\n",
        "m[0] = 100\n",
        "```\n",
        "\n",
        "> Vérifiez le résutlat en utilisant la cellule code ci-dessous.\n",
        "\n",
        "> ---"
      ]
    },
    {
      "cell_type": "code",
      "metadata": {
        "id": "m6MXPjsCkgrP",
        "colab_type": "code",
        "colab": {}
      },
      "source": [
        "# Entraînement 17\n",
        "\n"
      ],
      "execution_count": 0,
      "outputs": []
    },
    {
      "cell_type": "markdown",
      "metadata": {
        "id": "mf2mkak0kiqR",
        "colab_type": "text"
      },
      "source": [
        "Comme vous pouvez le constater, la modification de la liste référencée par la variable \"m\" entraine la modification de la liste référencée par la variable \"mm\" (alors que nous n'avons pas directement modifié la liste référencée par \"mm\"). Il faut donc être très prudent lors de ce genre de manipulation afin d'éviter des modifications non désirées.\n",
        "\n",
        "Il est possible de parcourir l'ensemble des éléments d'une matrice à l'aide d'une \"double boucle for\"."
      ]
    },
    {
      "cell_type": "markdown",
      "metadata": {
        "id": "FqhAzAz0koon",
        "colab_type": "text"
      },
      "source": [
        "> ---\n",
        "\n",
        "> **Entraînement 18**\n",
        "\n",
        "> Analysez puis testez le code suivant.\n",
        "\n",
        "> ```python\n",
        "m = [[1, 3, 4],\n",
        "     [5, 6, 8],\n",
        "     [2, 1, 3],\n",
        "     [7, 8, 15]]\n",
        "nb_colonne = 3\n",
        "nb_ligne = 4\n",
        "for i in range(0, nb_ligne):\n",
        "\tfor j in range(0, nb_colonne):\n",
        "\t\ta = m[i][j]\n",
        "\t\tprint(a)\n",
        "```\n",
        "\n",
        "> ---"
      ]
    },
    {
      "cell_type": "code",
      "metadata": {
        "id": "IetXOe9Pkx25",
        "colab_type": "code",
        "colab": {}
      },
      "source": [
        "# Entraînement 18\n",
        "\n"
      ],
      "execution_count": 0,
      "outputs": []
    },
    {
      "cell_type": "markdown",
      "metadata": {
        "id": "V_ylycssk1P_",
        "colab_type": "text"
      },
      "source": [
        "---\n",
        "\n",
        "***A propos de ce document***\n",
        "\n",
        "* Auteur : David Roche\n",
        "* Source : https://pixees.fr/informatiquelycee/n_site/nsi_prem_base_2_16.html\n",
        "* Licence : [Creative Commons BY-SA](https://creativecommons.org/licenses/by-sa/2.0/)\n",
        "* Adaptation au format calepin : Laurent Abbal "
      ]
    }
  ]
}